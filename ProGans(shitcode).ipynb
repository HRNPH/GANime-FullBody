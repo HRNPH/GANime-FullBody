{
  "cells": [
    {
      "cell_type": "markdown",
      "metadata": {
        "id": "view-in-github",
        "colab_type": "text"
      },
      "source": [
        "<a href=\"https://colab.research.google.com/github/HRNPH/GANime-FullBody/blob/main/ProGans(shitcode).ipynb\" target=\"_parent\"><img src=\"https://colab.research.google.com/assets/colab-badge.svg\" alt=\"Open In Colab\"/></a>"
      ]
    },
    {
      "cell_type": "markdown",
      "metadata": {
        "id": "90BXN6vYSDQJ"
      },
      "source": [
        "# Model"
      ]
    },
    {
      "cell_type": "markdown",
      "metadata": {
        "id": "Bf8GKvVySJkt"
      },
      "source": [
        "## Model Components"
      ]
    },
    {
      "cell_type": "code",
      "execution_count": null,
      "metadata": {
        "id": "zXa5c80UeYEe"
      },
      "outputs": [],
      "source": [
        "import torch\n",
        "import torch.nn as nn\n",
        "import torch.nn.functional as F\n",
        "from math import log2"
      ]
    },
    {
      "cell_type": "markdown",
      "metadata": {
        "id": "5deyHxALLnzd"
      },
      "source": [
        ""
      ]
    },
    {
      "cell_type": "code",
      "execution_count": null,
      "metadata": {
        "id": "H8aPG_6WnfGl"
      },
      "outputs": [],
      "source": [
        "class WSConv2d(nn.Module):\n",
        "  def __init__(self, in_channel, out_channel, kernel_size=3, stride=1, padding=1, gain=2):\n",
        "    super(WSConv2d, self).__init__()\n",
        "    self.conv = nn.Conv2d(in_channel, out_channel, kernel_size, stride, padding)\n",
        "    self.scale = (gain / (in_channel * (kernel_size ** 2))) ** 0.5\n",
        "    self.bias = self.conv.bias\n",
        "    self.conv.bias = None\n",
        "\n",
        "    #initializae conv layer\n",
        "    nn.init.normal_(self.conv.weight)\n",
        "    nn.init.zeros_(self.bias)\n",
        "\n",
        "  def forward(self,x):\n",
        "    return self.conv(x * self.scale) + self.bias.view(1, self.bias.shape[0], 1, 1)"
      ]
    },
    {
      "cell_type": "code",
      "execution_count": null,
      "metadata": {
        "id": "VaNjkpannn2E"
      },
      "outputs": [],
      "source": [
        "class PixelNorm(nn.Module):\n",
        "  def __init__(self):\n",
        "    super(PixelNorm, self).__init__()\n",
        "    self.epsilon = 1e-8\n",
        "\n",
        "  def forward(self, x):\n",
        "    return x / torch.sqrt(torch.mean(x**2, dim=1, keepdim=True) + self.epsilon)\n",
        "  pass"
      ]
    },
    {
      "cell_type": "code",
      "execution_count": null,
      "metadata": {
        "id": "vu6whD_ynoV0"
      },
      "outputs": [],
      "source": [
        "class ConvBlock(nn.Module):\n",
        "  def __init__(self, in_channel, out_channel, use_pixelnorm=True):\n",
        "    super(ConvBlock, self).__init__()\n",
        "    self.conv1 = WSConv2d(in_channel, out_channel)\n",
        "    self.conv2 = WSConv2d(out_channel, out_channel)\n",
        "    self.leaky = nn.LeakyReLU(0.2)\n",
        "    self.pn = PixelNorm()\n",
        "    self.use_pn = use_pixelnorm\n",
        "\n",
        "  def forward(self, x, use_pixelnorm=True):\n",
        "    x = self.leaky(self.conv1(x))\n",
        "    x = self.pn(x) if self.use_pn else x\n",
        "    x = self.leaky(self.conv2(x))\n",
        "    x = self.pn(x) if self.use_pn else x\n",
        "    return x"
      ]
    },
    {
      "cell_type": "markdown",
      "metadata": {
        "id": "x6Mav3Rhnt2g"
      },
      "source": [
        "## Model Classes"
      ]
    },
    {
      "cell_type": "code",
      "execution_count": null,
      "metadata": {
        "id": "1K-89Fu3nonD"
      },
      "outputs": [],
      "source": [
        "class Generator(nn.Module):\n",
        "  def __init__(self, z_dim, in_channel, img_channel=3):\n",
        "    super(Generator,self).__init__()\n",
        "    self.initial = nn.Sequential(\n",
        "        PixelNorm(),\n",
        "        nn.ConvTranspose2d(z_dim, in_channel, 4, 1, 0),#1x1 -> 4x4\n",
        "        nn.LeakyReLU(0.2),\n",
        "        WSConv2d(in_channel, in_channel, kernel_size=3, stride=1, padding=1),\n",
        "        nn.LeakyReLU(0.2),\n",
        "        PixelNorm(),\n",
        "    )\n",
        "\n",
        "    self.initial_rgb = WSConv2d(in_channel, img_channel, kernel_size=1, stride=1, padding=0)\n",
        "    self.prog_blocks, self.rgb_layer = nn.ModuleList([]), nn.ModuleList([self.initial_rgb])\n",
        "\n",
        "    for i in range(len(factors) - 1):# was declared out of this classes\n",
        "      conv_in_c = int(in_channel * factors[i])\n",
        "      conv_out_c = int(in_channel * factors[i + 1])\n",
        "\n",
        "      self.prog_blocks.append(ConvBlock(conv_in_c, conv_out_c))\n",
        "      self.rgb_layer.append(WSConv2d(conv_out_c, img_channel, kernel_size=1, stride=1, padding=0))\n",
        "\n",
        "  def fade_in(self, alpha, upscaled, generated):\n",
        "    return torch.tanh(alpha * generated + (1 - alpha) * upscaled)\n",
        "\n",
        "  def forward(self, x, alpha, steps):\n",
        "    out = self.initial(x)\n",
        "\n",
        "    if steps == 0:\n",
        "      return self.initial_rgb(out)\n",
        "    \n",
        "    for step in range(steps):\n",
        "      upscaled = F.interpolate(out, scale_factor=2, mode=\"nearest\")\n",
        "      out = self.prog_blocks[step](upscaled) # use procbloc number STEP as a function for UPSCALED \"OUT\"\n",
        "    \n",
        "    final_upscaled = self.rgb_layer[steps - 1](upscaled)\n",
        "    final_out = self.rgb_layer[steps](out)\n",
        "    return self.fade_in(alpha, final_upscaled, final_out)\n"
      ]
    },
    {
      "cell_type": "code",
      "execution_count": null,
      "metadata": {
        "id": "U-gSlCp9nxam"
      },
      "outputs": [],
      "source": [
        "from torch.nn.modules.activation import LeakyReLU\n",
        "class Discriminator(nn.Module):\n",
        "  def __init__(self, in_channel, img_channel=3):\n",
        "    super(Discriminator,self).__init__()\n",
        "    \n",
        "    self.prog_blocks, self.rgb_layers = nn.ModuleList([]), nn.ModuleList([])\n",
        "    self.Leaky = nn.LeakyReLU(0.2)\n",
        "\n",
        "    for i in range(len(factors) - 1, 0, -1):\n",
        "      conv_in_c = int(in_channel * factors[i])\n",
        "      conv_out_c = int(in_channel * factors[i - 1])     \n",
        "      self.prog_blocks.append(ConvBlock(conv_in_c, conv_out_c, use_pixelnorm=False))\n",
        "      self.rgb_layers.append(WSConv2d(img_channel, conv_in_c, kernel_size=1, stride=1, padding=0))\n",
        "\n",
        "    self.initial_rgb = WSConv2d(img_channel, in_channel, kernel_size=1, stride=1, padding=0)\n",
        "    self.rgb_layers.append(self.initial_rgb)\n",
        "    self.avg_pool = nn.AvgPool2d(kernel_size=2, stride=2)\n",
        "\n",
        "    #block for 4x4 resolution\n",
        "    self.final_block =  nn.Sequential(\n",
        "        WSConv2d(in_channel + 1, in_channel, kernel_size=3, stride=1, padding=1),\n",
        "        nn.LeakyReLU(0.2),\n",
        "        WSConv2d(in_channel, in_channel, kernel_size=4, stride=1, padding=0),\n",
        "        nn.LeakyReLU(0.2),\n",
        "        WSConv2d(in_channel, 1, kernel_size=1, stride=1, padding=0),\n",
        "    )\n",
        "\n",
        "  def fade_in(self, alpha, downscaled, out):\n",
        "    return alpha * out + (1 - alpha) * downscaled\n",
        "\n",
        "  def minibatch_std(self, x):\n",
        "    batch_statistics = torch.std(x, dim=0).mean().repeat(x.shape[0], 1, x.shape[2], x.shape[3])\n",
        "    return torch.cat([x, batch_statistics], dim=1)\n",
        "\n",
        "  def forward(self, x, alpha, step):\n",
        "    cur_step = len(self.prog_blocks) - step\n",
        "    out = self.Leaky(self.rgb_layers[cur_step](x))\n",
        "\n",
        "    if step == 0:\n",
        "      \n",
        "      out = self.minibatch_std(out)\n",
        "      return self.final_block(out).view(out.shape[0], -1)\n",
        "\n",
        "    downscaled = self.Leaky(self.rgb_layers[cur_step + 1](self.avg_pool(x)))\n",
        "    out = self.avg_pool(self.prog_blocks[cur_step](out))\n",
        "    out = self.fade_in(alpha, downscaled, out)\n",
        "\n",
        "    for step in range(cur_step + 1, len(self.prog_blocks)):\n",
        "      out = self.prog_blocks[step](out)\n",
        "      out = self.avg_pool(out)\n",
        "\n",
        "    out = self.minibatch_std(out)\n",
        "    return self.final_block(out).view(out.shape[0], -1)"
      ]
    },
    {
      "cell_type": "markdown",
      "metadata": {
        "id": "RoGf570jQCk_"
      },
      "source": [
        "# Train"
      ]
    },
    {
      "cell_type": "markdown",
      "metadata": {
        "id": "Ua1674O2Zgl_"
      },
      "source": [
        "## Library"
      ]
    },
    {
      "cell_type": "code",
      "execution_count": null,
      "metadata": {
        "id": "gOG57qZyoazv"
      },
      "outputs": [],
      "source": [
        "from torch.utils.tensorboard import SummaryWriter\n",
        "from torch.utils import tensorboard\n",
        "from math import log2\n",
        "from tqdm import tqdm\n",
        "\n",
        "import matplotlib.pyplot as plt\n",
        "import torchvision\n",
        "import numpy as np\n",
        "import random\n",
        "import torch\n",
        "import cv2\n",
        "import os\n"
      ]
    },
    {
      "cell_type": "markdown",
      "metadata": {
        "id": "ob2HSmfdQc41"
      },
      "source": [
        "## Config & Utils"
      ]
    },
    {
      "cell_type": "markdown",
      "metadata": {
        "id": "gMlldguZb6yv"
      },
      "source": [
        "### Config"
      ]
    },
    {
      "cell_type": "code",
      "execution_count": null,
      "metadata": {
        "id": "eHixgjxrQex5"
      },
      "outputs": [],
      "source": [
        "\n",
        "class configure():\n",
        "  def __init__(self):\n",
        "    self.START_TRAIN_AT_IMG_SIZE = 4\n",
        "    self.DATASET = '/content/drive/MyDrive/Datasets/resized_ganime_fullbody_cleaned_ds/'\n",
        "    self.DATASET_type = 'img' #numpy, img\n",
        "    self.CHECKPOINT_GEN = \"/content/drive/MyDrive/Datasets/save/128x128_progans_fullbody/working/gen.pth\"\n",
        "    self.CHECKPOINT_DIS = \"/content/drive/MyDrive/Datasets/save/128x128_progans_fullbody/working/dis.pth\"\n",
        "    self.DEVICE = \"cuda\" if torch.cuda.is_available() else \"cpu\"\n",
        "    self.SAVE_MODEL = True\n",
        "    self.LOAD_MODEL = False\n",
        "    self.LEARNING_RATE = 1e-8\n",
        "    self.ALPHA = 1e-5\n",
        "    self.BETAS = (0.0, 0.99)\n",
        "    self.BATCH_SIZES = [16, 16, 16, 8, 8, 8, 8, 4, 2]\n",
        "    self.CHANNELS_IMG = 3\n",
        "    self.Z_DIM = 1024  # should be 512 in original paper\n",
        "    self.IN_CHANNELS = 1028  # should be 512 in original paper\n",
        "    self.CRITIC_ITERATIONS = 1\n",
        "    self.LAMBDA_GP = 10\n",
        "    self.PROGRESSIVE_EPOCHS = [30] * len(self.BATCH_SIZES)\n",
        "    self.FIXED_NOISE = torch.randn(8, self.Z_DIM, 1, 1).to(self.DEVICE)\n",
        "    self.NUM_WORKERS = 4\n",
        "    self.SEED = 0\n",
        "\n",
        "config = configure()\n",
        "visualize_noise = torch.randn(16, config.IN_CHANNELS, device=config.DEVICE, dtype=torch.float) #don't touch this noise since we're using it for visualizations"
      ]
    },
    {
      "cell_type": "code",
      "execution_count": null,
      "metadata": {
        "id": "Y4EcycwqedmY"
      },
      "outputs": [],
      "source": [
        "# factors = [1, 1, 1, 1, 1 / 2, 1 / 4, 1 / 8, 1 / 16, 1 / 32] \n",
        "factors = [1, 1, 1, 1, 1 / 2, 1 / 4, 1 / 8] # for 256x256"
      ]
    },
    {
      "cell_type": "markdown",
      "metadata": {
        "id": "Tivz1LTdRibc"
      },
      "source": [
        "### Utils"
      ]
    },
    {
      "cell_type": "code",
      "execution_count": null,
      "metadata": {
        "id": "368R0_pJmtjN"
      },
      "outputs": [],
      "source": [
        "def plotter(data):\n",
        "  data = torch.moveaxis(data*127.5+127.5,1,-1).numpy().astype(int)\n",
        "  fig,ax = plt.subplots(2,2,figsize=(5,5))\n",
        "  for i in range(2):\n",
        "    for j in range(2):\n",
        "      ax[i,j].imshow(data[i+2*j])\n",
        "      ax[i,j].axis('off')\n",
        "  plt.show()"
      ]
    },
    {
      "cell_type": "code",
      "execution_count": null,
      "metadata": {
        "id": "dSwwukUFu6hv"
      },
      "outputs": [],
      "source": [
        "def random_sample(data):\n",
        "  for images in data:\n",
        "    for img in images:\n",
        "      print(images.shape)\n",
        "      img = np.transpose(img.numpy(), (1, 2, 0))\n",
        "      print(img.shape)\n",
        "      plt.imshow(img)\n",
        "      \n",
        "      break\n",
        "    break"
      ]
    },
    {
      "cell_type": "code",
      "execution_count": null,
      "metadata": {
        "id": "Ozdu7ghWVoph"
      },
      "outputs": [],
      "source": [
        "def set_seed(seed):\n",
        "    seed = config.SEED\n",
        "    random.seed(seed)\n",
        "    np.random.seed(seed)\n",
        "    torch.manual_seed(seed)\n",
        "    torch.cuda.manual_seed(seed)\n",
        "    torch.cuda.manual_seed_all(seed)\n",
        "    torch.backends.cudnn.deterministic = True\n",
        "    torch.backends.cudnn.benchmark = False"
      ]
    },
    {
      "cell_type": "code",
      "execution_count": null,
      "metadata": {
        "id": "u58b0XUIVJNe"
      },
      "outputs": [],
      "source": [
        "def load_checkpoint(checkpoint_file, model, optimizer, lr):\n",
        "    print(\"=> Loading checkpoint\")\n",
        "    checkpoint = torch.load(checkpoint_file, map_location=\"cuda\")\n",
        "    model.load_state_dict(checkpoint[\"state_dict\"])\n",
        "    optimizer.load_state_dict(checkpoint[\"optimizer\"])\n",
        "\n",
        "    # If we don't do this then it will just have learning rate of old checkpoint\n",
        "    # and it will lead to many hours of debugging \\:\n",
        "    for param_group in optimizer.param_groups:\n",
        "        param_group[\"lr\"] = lr"
      ]
    },
    {
      "cell_type": "code",
      "execution_count": null,
      "metadata": {
        "id": "uOxC9RRqVRbF"
      },
      "outputs": [],
      "source": [
        "def save_checkpoint(model, optimizer, filename=\"my_checkpoint.pth.tar\"):\n",
        "    print(\"=> Saving checkpoint\")\n",
        "    checkpoint = {\n",
        "        \"state_dict\": model.state_dict(),\n",
        "        \"optimizer\": optimizer.state_dict(),\n",
        "    }\n",
        "    torch.save(checkpoint, filename)"
      ]
    },
    {
      "cell_type": "code",
      "execution_count": null,
      "metadata": {
        "id": "y6qDHhuxVhhV"
      },
      "outputs": [],
      "source": [
        "# Print losses occasionally and print to tensorboard\n",
        "def plot_to_tensorboard(\n",
        "    writer, loss_critic, loss_gen, real, fake, tensorboard_step\n",
        "):\n",
        "    writer.add_scalar(\"Loss Critic\", loss_critic, global_step=tensorboard_step)\n",
        "\n",
        "    with torch.no_grad():\n",
        "        # take out (up to) 8 examples to plot\n",
        "        img_grid_real = torchvision.utils.make_grid(real[:8], normalize=True)\n",
        "        img_grid_fake = torchvision.utils.make_grid(fake[:8], normalize=True)\n",
        "        writer.add_image(\"Real\", img_grid_real, global_step=tensorboard_step)\n",
        "        writer.add_image(\"Fake\", img_grid_fake, global_step=tensorboard_step)"
      ]
    },
    {
      "cell_type": "markdown",
      "metadata": {
        "id": "_15CorM2QEE0"
      },
      "source": [
        "## Setup"
      ]
    },
    {
      "cell_type": "markdown",
      "metadata": {
        "id": "eG3NYtgDSXGB"
      },
      "source": [
        "### Data Loader"
      ]
    },
    {
      "cell_type": "code",
      "execution_count": null,
      "metadata": {
        "id": "BrAfvyCimeAs"
      },
      "outputs": [],
      "source": [
        "def dataloader(size,batch_size):\n",
        "  np_array = []\n",
        "  loader_size = None\n",
        "\n",
        "  if config.DATASET_type == 'img':\n",
        "    print(f'Loading Data at size {size}...')\n",
        "    for image in tqdm(os.listdir(config.DATASET)):\n",
        "      img_path = config.DATASET + image\n",
        "      img = cv2.imread(img_path)\n",
        "      img = cv2.cvtColor(img, cv2.COLOR_BGR2RGB)\n",
        "\n",
        "      to_size = (size,size)\n",
        "      img = cv2.resize(img,to_size)\n",
        "      np_array.append(img)\n",
        "\n",
        "  np_array = np.array(np_array)/127.5-1\n",
        "  loader_size = np_array.shape[0]#number of images\n",
        "\n",
        "  temp0 = np.moveaxis(np_array,-1,1)[0:]#[0:x] -> x = limit of datasets\n",
        "  del np_array\n",
        "  temp = torch.tensor(temp0).float()\n",
        "  del temp0\n",
        "  train_loader = torch.utils.data.DataLoader(temp, \n",
        "                                           batch_size=batch_size, \n",
        "                                           num_workers=config.NUM_WORKERS, \n",
        "                                           shuffle=True,\n",
        "                                           )\n",
        "  del temp\n",
        "\n",
        "  return train_loader, loader_size"
      ]
    },
    {
      "cell_type": "markdown",
      "metadata": {
        "id": "IbxAojXcVW8c"
      },
      "source": [
        "### loss & all"
      ]
    },
    {
      "cell_type": "code",
      "execution_count": null,
      "metadata": {
        "id": "yCSewAYXVc3u"
      },
      "outputs": [],
      "source": [
        "def gradient_penalty(critic, real, fake, alpha, train_step, device=\"cpu\"):\n",
        "    BATCH_SIZE, C, H, W = real.shape\n",
        "    beta = torch.rand((BATCH_SIZE, 1, 1, 1)).repeat(1, C, H, W).to(device)\n",
        "    interpolated_images = real * beta + fake.detach() * (1 - beta)\n",
        "    interpolated_images.requires_grad_(True)\n",
        "\n",
        "    # Calculate critic scores\n",
        "    mixed_scores = critic(interpolated_images, alpha, train_step)\n",
        "\n",
        "    # Take the gradient of the scores with respect to the images\n",
        "    gradient = torch.autograd.grad(\n",
        "        inputs=interpolated_images,\n",
        "        outputs=mixed_scores,\n",
        "        grad_outputs=torch.ones_like(mixed_scores),\n",
        "        create_graph=True,\n",
        "        retain_graph=True,\n",
        "    )[0]\n",
        "    gradient = gradient.view(gradient.shape[0], -1)\n",
        "    gradient_norm = gradient.norm(2, dim=1)\n",
        "    gradient_penalty = torch.mean((gradient_norm - 1) ** 2)\n",
        "    return gradient_penalty"
      ]
    },
    {
      "cell_type": "markdown",
      "metadata": {
        "id": "sJq7Dd5sbRIX"
      },
      "source": [
        "### Trainer"
      ]
    },
    {
      "cell_type": "code",
      "execution_count": null,
      "metadata": {
        "id": "aup-GwsKbUyI"
      },
      "outputs": [],
      "source": [
        "def trainer(\n",
        "    critic,\n",
        "    gen,\n",
        "    loader,\n",
        "    data_len,\n",
        "    step,\n",
        "    alpha,\n",
        "    opt_critic,\n",
        "    opt_gen,\n",
        "    tensorboard_step,\n",
        "    writer,\n",
        "    scaler_gen,\n",
        "    scaler_critic,\n",
        "):\n",
        "    loop = tqdm(loader, leave=True)\n",
        "    for batch_idx, real in enumerate(loop):\n",
        "        real = real.to(config.DEVICE)\n",
        "        cur_batch_size = real.shape[0]\n",
        "\n",
        "        \n",
        "        \n",
        "\n",
        "        # Train Critic: max E[critic(real)] - E[critic(fake)] <-> min -E[critic(real)] + E[critic(fake)]\n",
        "        # which is equivalent to minimizing the negative of the expression\n",
        "        noise = torch.randn(cur_batch_size, config.Z_DIM, 1, 1).to(config.DEVICE)\n",
        "\n",
        "        with torch.cuda.amp.autocast():\n",
        "            fake = gen(noise, alpha, step)\n",
        "            critic_real = critic(real, alpha, step)\n",
        "            critic_fake = critic(fake.detach(), alpha, step)\n",
        "            gp = gradient_penalty(critic, real, fake, alpha, step, device=config.DEVICE)\n",
        "            loss_critic = (\n",
        "                -(torch.mean(critic_real) - torch.mean(critic_fake))\n",
        "                + config.LAMBDA_GP * gp\n",
        "                + (0.001 * torch.mean(critic_real ** 2))\n",
        "            )\n",
        "\n",
        "        opt_critic.zero_grad()\n",
        "        scaler_critic.scale(loss_critic).backward()\n",
        "        scaler_critic.step(opt_critic)\n",
        "        scaler_critic.update()\n",
        "\n",
        "        # Train Generator: max E[critic(gen_fake)] <-> min -E[critic(gen_fake)]\n",
        "        with torch.cuda.amp.autocast():\n",
        "            gen_fake = critic(fake, alpha, step)\n",
        "            loss_gen = -torch.mean(gen_fake)\n",
        "\n",
        "        opt_gen.zero_grad()\n",
        "        scaler_gen.scale(loss_gen).backward()\n",
        "        scaler_gen.step(opt_gen)\n",
        "        scaler_gen.update()\n",
        "\n",
        "        # Update alpha and ensure less than 1\n",
        "        alpha += cur_batch_size / (\n",
        "            (config.PROGRESSIVE_EPOCHS[step] * 0.5) * data_len\n",
        "        )\n",
        "        alpha = min(alpha, 1)\n",
        "\n",
        "        if batch_idx % 100 == 0:\n",
        "            with torch.no_grad():\n",
        "                fixed_fakes = gen(config.FIXED_NOISE, alpha, step) * 0.5 + 0.5\n",
        "            plot_to_tensorboard(\n",
        "                writer,\n",
        "                loss_critic.item(),\n",
        "                loss_gen.item(),\n",
        "                real.detach(),\n",
        "                fixed_fakes.detach(),\n",
        "                tensorboard_step,\n",
        "            )\n",
        "            tensorboard_step += 1\n",
        "\n",
        "            plotter(fixed_fakes.detach().cpu())\n",
        "\n",
        "        loop.set_postfix(\n",
        "            gp=gp.item(),\n",
        "            loss_gen=loss_gen.item(),\n",
        "            loss_dis=loss_critic.item(),\n",
        "        )\n",
        "\n",
        "    return tensorboard_step, alpha"
      ]
    },
    {
      "cell_type": "markdown",
      "metadata": {
        "id": "6LJVA0FMXZg2"
      },
      "source": [
        "## Train"
      ]
    },
    {
      "cell_type": "markdown",
      "metadata": {
        "id": "C5-Xv7UJS8o6"
      },
      "source": [
        "### Model Init"
      ]
    },
    {
      "cell_type": "code",
      "execution_count": null,
      "metadata": {
        "id": "Ta6l1nrtZKCZ"
      },
      "outputs": [],
      "source": [
        "#optimizers\n",
        "seed_size = config.Z_DIM\n",
        "in_channels = config.IN_CHANNELS\n",
        "device = torch.device(config.DEVICE)\n",
        "\n",
        "gen = Generator(seed_size, in_channels)\n",
        "dis = Discriminator(in_channels)\n",
        "\n",
        "gen.to(device)\n",
        "dis.to(device)\n",
        "\n",
        "gen_optimizer = torch.optim.Adam(\n",
        "    dis.parameters(), lr=config.LEARNING_RATE, betas=config.BETAS\n",
        ")\n",
        "dis_optimizer = torch.optim.Adam(\n",
        "    dis.parameters(), lr=config.LEARNING_RATE, betas=config.BETAS\n",
        ")\n",
        "\n",
        "dis_scaler = torch.cuda.amp.GradScaler()\n",
        "gen_scaler = torch.cuda.amp.GradScaler()\n",
        "\n",
        "#tensorboard plotting\n",
        "writer = SummaryWriter(f\"logs/gan1\")\n",
        "\n",
        "if config.LOAD_MODEL:\n",
        "  load_checkpoint(\n",
        "      config.CHECKPOINT_GEN, gen, gen_optimizer, config.LEARNING_RATE\n",
        "  )\n",
        "  load_checkpoint(\n",
        "      config.CHECKPOINT_DIS, dis, dis_optimizer, config.LEARNING_RATE\n",
        "  )"
      ]
    },
    {
      "cell_type": "markdown",
      "metadata": {
        "id": "TXLLaY7dUJ2E"
      },
      "source": [
        "### Train"
      ]
    },
    {
      "cell_type": "code",
      "execution_count": null,
      "metadata": {
        "id": "9FQatmpHpclJ"
      },
      "outputs": [],
      "source": [
        "num_epochs = config.PROGRESSIVE_EPOCHS\n",
        "batch_size = config.BATCH_SIZES\n",
        "reg_lambda = config.LAMBDA_GP\n",
        "\n",
        "torch.backends.cudnn.benchmarks = True #idk why they said it improve performance"
      ]
    },
    {
      "cell_type": "code",
      "execution_count": null,
      "metadata": {
        "colab": {
          "base_uri": "https://localhost:8080/",
          "height": 235
        },
        "id": "OZhN4tDFp1WL",
        "outputId": "f33da795-6b96-41c1-e78c-2e7030f71c78"
      },
      "outputs": [
        {
          "output_type": "error",
          "ename": "NameError",
          "evalue": "ignored",
          "traceback": [
            "\u001b[0;31m---------------------------------------------------------------------------\u001b[0m",
            "\u001b[0;31mNameError\u001b[0m                                 Traceback (most recent call last)",
            "\u001b[0;32m<ipython-input-2-ffeab97f918d>\u001b[0m in \u001b[0;36m<module>\u001b[0;34m()\u001b[0m\n\u001b[1;32m      1\u001b[0m \u001b[0;31m#enable traning\u001b[0m\u001b[0;34m\u001b[0m\u001b[0;34m\u001b[0m\u001b[0;34m\u001b[0m\u001b[0m\n\u001b[0;32m----> 2\u001b[0;31m \u001b[0mgen\u001b[0m\u001b[0;34m.\u001b[0m\u001b[0mtrain\u001b[0m\u001b[0;34m(\u001b[0m\u001b[0;34m)\u001b[0m\u001b[0;34m\u001b[0m\u001b[0;34m\u001b[0m\u001b[0m\n\u001b[0m\u001b[1;32m      3\u001b[0m \u001b[0mdis\u001b[0m\u001b[0;34m.\u001b[0m\u001b[0mtrain\u001b[0m\u001b[0;34m(\u001b[0m\u001b[0;34m)\u001b[0m\u001b[0;34m\u001b[0m\u001b[0;34m\u001b[0m\u001b[0m\n\u001b[1;32m      4\u001b[0m \u001b[0;34m\u001b[0m\u001b[0m\n\u001b[1;32m      5\u001b[0m \u001b[0mtensorboard_step\u001b[0m \u001b[0;34m=\u001b[0m \u001b[0;36m0\u001b[0m\u001b[0;34m\u001b[0m\u001b[0;34m\u001b[0m\u001b[0m\n",
            "\u001b[0;31mNameError\u001b[0m: name 'gen' is not defined"
          ]
        }
      ],
      "source": [
        "#enable traning\n",
        "gen.train()\n",
        "dis.train()\n",
        "\n",
        "tensorboard_step = 0\n",
        "\n",
        "step = int(log2(config.START_TRAIN_AT_IMG_SIZE / 4))\n",
        "\n",
        "for num_epochs in config.PROGRESSIVE_EPOCHS[step:]:\n",
        "  alpha = config.ALPHA\n",
        "  cur_batch_size = config.BATCH_SIZES[step]\n",
        "  loader, data_len = dataloader(4*2 ** step, cur_batch_size)\n",
        "\n",
        "  print(f'Images Size : {4*2 ** step}')\n",
        "\n",
        "  for epoch in range(num_epochs):\n",
        "            print(f\"Epoch [{epoch+1}/{num_epochs}]\")\n",
        "\n",
        "            tensorboard_step, alpha = trainer(\n",
        "                dis,\n",
        "                gen,\n",
        "                loader,\n",
        "                data_len,\n",
        "                step,\n",
        "                alpha,\n",
        "                dis_optimizer,\n",
        "                gen_optimizer,\n",
        "                tensorboard_step,\n",
        "                writer,\n",
        "                gen_scaler,\n",
        "                dis_scaler,\n",
        "            )\n",
        "\n",
        "            if config.SAVE_MODEL:\n",
        "                # if epoch % 2:#save every 2 epochs\n",
        "                save_checkpoint(gen, gen_optimizer, filename=config.CHECKPOINT_GEN)\n",
        "                save_checkpoint(dis, dis_optimizer, filename=config.CHECKPOINT_DIS)\n",
        "\n",
        "  step += 1  # progress to the next img size\n"
      ]
    },
    {
      "cell_type": "markdown",
      "metadata": {
        "id": "14RgnVqrIFA8"
      },
      "source": [
        "## Show Tensorboard"
      ]
    },
    {
      "cell_type": "code",
      "execution_count": null,
      "metadata": {
        "id": "vOSNSoF6IXEz"
      },
      "outputs": [],
      "source": [
        "%load_ext tensorboard"
      ]
    },
    {
      "cell_type": "code",
      "execution_count": null,
      "metadata": {
        "id": "ILlDl2PXK29h"
      },
      "outputs": [],
      "source": [
        "%tensorboard --logdir 'logs/gan1'"
      ]
    },
    {
      "cell_type": "markdown",
      "metadata": {
        "id": "7hrtvJMR53Na"
      },
      "source": [
        "# Test"
      ]
    },
    {
      "cell_type": "markdown",
      "source": [
        "## test model code"
      ],
      "metadata": {
        "id": "RggXh41XhN3y"
      }
    },
    {
      "cell_type": "code",
      "execution_count": null,
      "metadata": {
        "id": "j466ksDJn1xP"
      },
      "outputs": [],
      "source": [
        "def test_code():\n",
        "  z_dim = 100\n",
        "  in_channel = 256\n",
        "  imgchannel = 3\n",
        "  gen = Generator(z_dim, in_channel, imgchannel)\n",
        "  dis = Discriminator(in_channel, imgchannel)\n",
        "\n",
        "  # for image_size in [4, 8, 16, 32, 64, 128, 256, 512, 1024]:\n",
        "  for image_size in [4, 8, 16, 32, 64, 128, 256]:\n",
        "    num_steps = int(log2(image_size / 4))\n",
        "    x = torch.randn((1, z_dim, 1, 1))\n",
        "    z = gen(x, 0.5, steps=num_steps)\n",
        "    assert z.shape == (1, 3, image_size, image_size)\n",
        "    out = dis(z, alpha=0.5, step=num_steps)\n",
        "    assert out.shape == (1, 1)\n",
        "    print(f'Success At Images Size of {image_size}')"
      ]
    },
    {
      "cell_type": "code",
      "execution_count": null,
      "metadata": {
        "id": "3IRVZ3ta7LE_"
      },
      "outputs": [],
      "source": [
        "#test_code()"
      ]
    },
    {
      "cell_type": "code",
      "execution_count": null,
      "metadata": {
        "id": "40r49-TFSxLu"
      },
      "outputs": [],
      "source": [
        ""
      ]
    },
    {
      "cell_type": "markdown",
      "source": [
        "## Test Model Result"
      ],
      "metadata": {
        "id": "5YL_5zcjhP6r"
      }
    },
    {
      "cell_type": "code",
      "source": [
        "load_checkpoint(\n",
        "    config.CHECKPOINT_GEN, gen, gen_optimizer, config.LEARNING_RATE\n",
        ")\n",
        "load_checkpoint(\n",
        "    config.CHECKPOINT_DIS, dis, dis_optimizer, config.LEARNING_RATE\n",
        ")\n"
      ],
      "metadata": {
        "colab": {
          "base_uri": "https://localhost:8080/"
        },
        "id": "B2ZldEybhSM-",
        "outputId": "4dbd6fa8-954b-4cb4-bfa7-b6c293c68148"
      },
      "execution_count": null,
      "outputs": [
        {
          "output_type": "stream",
          "name": "stdout",
          "text": [
            "=> Loading checkpoint\n",
            "=> Loading checkpoint\n"
          ]
        }
      ]
    },
    {
      "cell_type": "code",
      "source": [
        "noise = torch.randn(4, config.Z_DIM, 1, 1).to(config.DEVICE)\n",
        "img_path = config.DATASET\n",
        "img_path = os.listdir(img_path)"
      ],
      "metadata": {
        "id": "PRXayPORiMiJ"
      },
      "execution_count": null,
      "outputs": []
    },
    {
      "cell_type": "code",
      "source": [
        "img_path[0]"
      ],
      "metadata": {
        "colab": {
          "base_uri": "https://localhost:8080/",
          "height": 35
        },
        "id": "ggZ3_aLmv5Wk",
        "outputId": "805fc3e0-0738-4d7a-c522-f19582bb5fc1"
      },
      "execution_count": null,
      "outputs": [
        {
          "output_type": "execute_result",
          "data": {
            "text/plain": [
              "'9039.png'"
            ],
            "application/vnd.google.colaboratory.intrinsic+json": {
              "type": "string"
            }
          },
          "metadata": {},
          "execution_count": 23
        }
      ]
    },
    {
      "cell_type": "code",
      "source": [
        "def test_smallbatch_img(img_path, to_size, num):\n",
        "  np_array = []\n",
        "  \n",
        "  for i in range(num):\n",
        "    img = cv2.imread(config.DATASET + img_path[i])\n",
        "    img = cv2.cvtColor(img, cv2.COLOR_BGR2RGB)\n",
        "    img = cv2.resize(img,(to_size,to_size))\n",
        "    np_array.append(img)\n",
        "\n",
        "  np_array = np.array(np_array)/127.5-1\n",
        "  loader_size = np_array.shape[0]#number of images\n",
        "\n",
        "  temp0 = np.moveaxis(np_array,-1,1)[0:]#[0:x] -> x = limit of datasets\n",
        "  temp = torch.tensor(temp0).float()\n",
        "  train_loader = torch.utils.data.DataLoader(temp, \n",
        "                                      batch_size=4, \n",
        "                                      num_workers=config.NUM_WORKERS,)\n",
        "  return train_loader"
      ],
      "metadata": {
        "id": "LYdTmR7fuwCI"
      },
      "execution_count": null,
      "outputs": []
    },
    {
      "cell_type": "code",
      "source": [
        "fake = gen(config.FIXED_NOISE, 0.5, 2) * 0.5 + 0.5\n",
        "plotter(fake.detach().cpu())"
      ],
      "metadata": {
        "colab": {
          "base_uri": "https://localhost:8080/",
          "height": 303
        },
        "id": "51Y7FaWOibci",
        "outputId": "cd8c5e28-c4eb-4a20-deb0-eed622d7dd91"
      },
      "execution_count": null,
      "outputs": [
        {
          "output_type": "display_data",
          "data": {
            "text/plain": [
              "<Figure size 360x360 with 4 Axes>"
            ],
            "image/png": "[encoded data removed]"
          },
          "metadata": {
            "needs_background": "light"
          }
        }
      ]
    },
    {
      "cell_type": "code",
      "source": [
        "data = test_smallbatch_img(img_path, 16, 4)\n",
        "real = None\n",
        "for image in data:\n",
        "  real = image\n",
        "  real = real.cuda()\n",
        "  plotter(image)\n"
      ],
      "metadata": {
        "colab": {
          "base_uri": "https://localhost:8080/",
          "height": 303
        },
        "id": "pPM19eVxwatf",
        "outputId": "0b8f88b2-0a8e-4eb5-d45d-c2b83f39c238"
      },
      "execution_count": null,
      "outputs": [
        {
          "output_type": "display_data",
          "data": {
            "text/plain": [
              "<Figure size 360x360 with 4 Axes>"
            ],
            "image/png": "[encoded data removed]"
          },
          "metadata": {
            "needs_background": "light"
          }
        }
      ]
    },
    {
      "cell_type": "markdown",
      "source": [
        "#### Fake Pred"
      ],
      "metadata": {
        "id": "j8nKDTCYzuyl"
      }
    },
    {
      "cell_type": "code",
      "source": [
        "pred = dis(fake[0:4].detach(), 0.5, 2)"
      ],
      "metadata": {
        "id": "Gn69ssn2he34"
      },
      "execution_count": null,
      "outputs": []
    },
    {
      "cell_type": "code",
      "source": [
        "print(pred)"
      ],
      "metadata": {
        "colab": {
          "base_uri": "https://localhost:8080/"
        },
        "id": "OUcV7wiejBS2",
        "outputId": "f5c364a4-4703-43e5-e84c-c6989ff5e2ba"
      },
      "execution_count": null,
      "outputs": [
        {
          "output_type": "stream",
          "name": "stdout",
          "text": [
            "tensor([[1.0674],\n",
            "        [1.0293],\n",
            "        [1.0155],\n",
            "        [1.0903]], device='cuda:0', grad_fn=<ViewBackward0>)\n"
          ]
        }
      ]
    },
    {
      "cell_type": "code",
      "source": [
        "real.shape"
      ],
      "metadata": {
        "colab": {
          "base_uri": "https://localhost:8080/"
        },
        "id": "NoAXbEhS0TAo",
        "outputId": "0f5398ca-e4ae-4a70-c335-016744068f16"
      },
      "execution_count": null,
      "outputs": [
        {
          "output_type": "execute_result",
          "data": {
            "text/plain": [
              "torch.Size([4, 3, 32, 32])"
            ]
          },
          "metadata": {},
          "execution_count": 97
        }
      ]
    },
    {
      "cell_type": "code",
      "source": [
        "predict = dis(real, 0.5, 2)"
      ],
      "metadata": {
        "id": "iou4z6dw0PAa"
      },
      "execution_count": null,
      "outputs": []
    },
    {
      "cell_type": "code",
      "source": [
        "print(predict)"
      ],
      "metadata": {
        "colab": {
          "base_uri": "https://localhost:8080/"
        },
        "id": "-P9CSTyylNzh",
        "outputId": "0e9c61b0-0c46-4aa2-be69-5e424848b1bd"
      },
      "execution_count": null,
      "outputs": [
        {
          "output_type": "stream",
          "name": "stdout",
          "text": [
            "tensor([[0.6053],\n",
            "        [0.4921],\n",
            "        [0.8547],\n",
            "        [0.3865]], device='cuda:0', grad_fn=<ViewBackward0>)\n"
          ]
        }
      ]
    },
    {
      "cell_type": "code",
      "source": [
        "pred.shape"
      ],
      "metadata": {
        "colab": {
          "base_uri": "https://localhost:8080/"
        },
        "id": "DWsz8XCTjCh7",
        "outputId": "44454567-91ae-4b75-c823-0a9ea20a973f"
      },
      "execution_count": null,
      "outputs": [
        {
          "output_type": "execute_result",
          "data": {
            "text/plain": [
              "torch.Size([10, 1])"
            ]
          },
          "metadata": {},
          "execution_count": 50
        }
      ]
    },
    {
      "cell_type": "code",
      "source": [
        ""
      ],
      "metadata": {
        "id": "Z8FskUHBjlUf"
      },
      "execution_count": null,
      "outputs": []
    }
  ],
  "metadata": {
    "accelerator": "GPU",
    "colab": {
      "collapsed_sections": [
        "90BXN6vYSDQJ",
        "Bf8GKvVySJkt",
        "x6Mav3Rhnt2g",
        "Ua1674O2Zgl_",
        "ob2HSmfdQc41",
        "eG3NYtgDSXGB",
        "IbxAojXcVW8c",
        "C5-Xv7UJS8o6",
        "TXLLaY7dUJ2E",
        "14RgnVqrIFA8",
        "7hrtvJMR53Na"
      ],
      "machine_shape": "hm",
      "name": "PgGans.ipynb",
      "provenance": [],
      "mount_file_id": "15lSmOHYs4YolNzkNwGMfIC6Bl4PEm42R",
      "authorship_tag": "ABX9TyO84jud/Y5sGLV2lCbFtApS",
      "include_colab_link": true
    },
    "kernelspec": {
      "display_name": "Python 3",
      "name": "python3"
    },
    "language_info": {
      "name": "python"
    }
  },
  "nbformat": 4,
  "nbformat_minor": 0
}