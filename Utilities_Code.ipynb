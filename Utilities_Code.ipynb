{
  "cells": [
    {
      "cell_type": "markdown",
      "metadata": {
        "id": "xezuBluegYIz"
      },
      "source": [
        "# Utilities Code\n",
        "This is the code I use to help me with my work."
      ]
    },
    {
      "cell_type": "markdown",
      "metadata": {
        "id": "2XPHqIer6ncc"
      },
      "source": [
        "## Config & Dataloader"
      ]
    },
    {
      "cell_type": "code",
      "execution_count": null,
      "metadata": {
        "colab": {
          "base_uri": "https://localhost:8080/",
          "height": 201
        },
        "id": "1SvhPQxO62Mb",
        "outputId": "4e9aaf9a-942b-4af8-9de9-27e3d375e87b"
      },
      "outputs": [],
      "source": [
        "#Visualize Noise\n",
        "visualize_noise = torch.randn(16, config.IN_CHANNELS, device=config.DEVICE, dtype=torch.float) #don't touch this noise since we're using it for visualizations"
      ]
    },
    {
      "cell_type": "code",
      "execution_count": null,
      "metadata": {
        "colab": {
          "base_uri": "https://localhost:8080/",
          "height": 322
        },
        "id": "lF7CXRtX6q20",
        "outputId": "67751c79-2e31-4cae-c33e-ead0cf333a74"
      },
      "outputs": [],
      "source": [
        "class configure():\n",
        "  def __init__(self):\n",
        "    self.START_TRAIN_AT_IMG_SIZE = 4\n",
        "    self.DATASET = '/content/drive/MyDrive/Datasets/resized_ganime_fullbody_cleaned_ds/'\n",
        "    self.DATASET_type = 'img' #numpy, img\n",
        "    self.CHECKPOINT_GEN = \"/content/drive/MyDrive/Datasets/save/128x128_progans_fullbody/working/gen.pth\"\n",
        "    self.CHECKPOINT_DIS = \"/content/drive/MyDrive/Datasets/save/128x128_progans_fullbody/working/dis.pth\"\n",
        "    self.DEVICE = \"cuda\" if torch.cuda.is_available() else \"cpu\"\n",
        "    self.SAVE_MODEL = True\n",
        "    self.LOAD_MODEL = False\n",
        "    self.LEARNING_RATE = 1e-8\n",
        "    self.ALPHA = 1e-5\n",
        "    self.BETAS = (0.0, 0.99)\n",
        "    self.BATCH_SIZES = [16, 16, 16, 8, 8, 8, 8, 4, 2]\n",
        "    self.CHANNELS_IMG = 3\n",
        "    self.Z_DIM = 1024  # should be 512 in original paper\n",
        "    self.IN_CHANNELS = 1028  # should be 512 in original paper\n",
        "    self.CRITIC_ITERATIONS = 1\n",
        "    self.LAMBDA_GP = 10\n",
        "    self.PROGRESSIVE_EPOCHS = [30] * len(self.BATCH_SIZES)\n",
        "    self.FIXED_NOISE = torch.randn(8, self.Z_DIM, 1, 1).to(self.DEVICE)\n",
        "    self.NUM_WORKERS = 4\n",
        "    self.SEED = 0\n",
        "\n",
        "config = configure()"
      ]
    },
    {
      "cell_type": "code",
      "execution_count": null,
      "metadata": {
        "id": "dxyYZv0l6m_O"
      },
      "outputs": [],
      "source": [
        "def dataloader(size,batch_size):\n",
        "  np_array = []\n",
        "  loader_size = None\n",
        "\n",
        "  if config.DATASET_type == 'img':\n",
        "    print(f'Loading Data at size {size}...')\n",
        "    for image in tqdm(os.listdir(config.DATASET)):\n",
        "      img_path = config.DATASET + image\n",
        "      img = cv2.imread(img_path)\n",
        "      img = cv2.cvtColor(img, cv2.COLOR_BGR2RGB)\n",
        "\n",
        "      to_size = (size,size)\n",
        "      img = cv2.resize(img,to_size)\n",
        "      np_array.append(img)\n",
        "\n",
        "  np_array = np.array(np_array)/127.5-1\n",
        "  loader_size = np_array.shape[0]#number of images\n",
        "\n",
        "  temp0 = np.moveaxis(np_array,-1,1)[0:]#[0:x] -> x = limit of datasets\n",
        "  del np_array\n",
        "  temp = torch.tensor(temp0).float()\n",
        "  del temp0\n",
        "  train_loader = torch.utils.data.DataLoader(temp, \n",
        "                                           batch_size=batch_size, \n",
        "                                           num_workers=config.NUM_WORKERS, \n",
        "                                           shuffle=True,\n",
        "                                           )\n",
        "  del temp\n",
        "\n",
        "  return train_loader, loader_size"
      ]
    },
    {
      "cell_type": "markdown",
      "metadata": {
        "id": "LgT9rjvRgcsj"
      },
      "source": [
        "## Img_To_npArray"
      ]
    },
    {
      "cell_type": "code",
      "execution_count": null,
      "metadata": {
        "id": "RLbuY_yeSNCa"
      },
      "outputs": [],
      "source": [
        "class nparray_config():\n",
        "  def __init__(self):\n",
        "    self.src = '/content/drive/MyDrive/Datasets/blur_ganime_fullbody_ultraclean/'\n",
        "    self.size = 128\n",
        "    self.destination = f'/content/drive/MyDrive/Datasets/nparray_resized_ganime_fullbody_cleaned_ds/blur_ultraclean_{self.size}'\n",
        "    "
      ]
    },
    {
      "cell_type": "code",
      "execution_count": null,
      "metadata": {
        "id": "IPVo29suShpU"
      },
      "outputs": [],
      "source": [
        "config = nparray_config()"
      ]
    },
    {
      "cell_type": "code",
      "execution_count": null,
      "metadata": {
        "colab": {
          "base_uri": "https://localhost:8080/"
        },
        "id": "MdiWOYEEUMoX",
        "outputId": "b4270079-2ae7-445d-a3ba-13e9732466d0"
      },
      "outputs": [
        {
          "name": "stdout",
          "output_type": "stream",
          "text": [
            "Source: /content/drive/MyDrive/Datasets/blur_ganime_fullbody_ultraclean/\n",
            "Destination: /content/drive/MyDrive/Datasets/nparray_resized_ganime_fullbody_cleaned_ds/blur_ultraclean_128\n",
            "Size: 128\n"
          ]
        }
      ],
      "source": [
        "print(f'Source: {config.src}')\n",
        "print(f'Destination: {config.destination}')\n",
        "print(f'Size: {config.size}')"
      ]
    },
    {
      "cell_type": "code",
      "execution_count": null,
      "metadata": {
        "id": "VYbHQjZxb9xZ"
      },
      "outputs": [],
      "source": [
        "import os\n",
        "import cv2\n",
        "import torch\n",
        "import numpy as np\n",
        "import matplotlib.pyplot as plt\n",
        "from tqdm import tqdm"
      ]
    },
    {
      "cell_type": "code",
      "execution_count": null,
      "metadata": {
        "id": "JPHJ_ua1cDTn"
      },
      "outputs": [],
      "source": [
        "path = config.src"
      ]
    },
    {
      "cell_type": "code",
      "execution_count": null,
      "metadata": {
        "id": "5dFwd3PscWMS"
      },
      "outputs": [],
      "source": [
        "def img_to_np(path, size):\n",
        "  data = []\n",
        "  for img in tqdm(os.listdir(path)):\n",
        "    img_path = path + img\n",
        "    img = cv2.imread(img_path)\n",
        "    img = cv2.cvtColor(img, cv2.COLOR_BGR2RGB)\n",
        "    img = cv2.resize(img, (size, size))\n",
        "    data.append(img)\n",
        "  \n",
        "  result = np.array(data)\n",
        "  del data\n",
        "  return result"
      ]
    },
    {
      "cell_type": "code",
      "execution_count": null,
      "metadata": {
        "colab": {
          "base_uri": "https://localhost:8080/"
        },
        "id": "RFWzpbaycczF",
        "outputId": "c7988aab-5db1-4440-bed6-e90723a929b4"
      },
      "outputs": [
        {
          "name": "stderr",
          "output_type": "stream",
          "text": [
            "100%|██████████| 4151/4151 [00:19<00:00, 212.56it/s]\n"
          ]
        }
      ],
      "source": [
        "data = img_to_np(path, config.size)"
      ]
    },
    {
      "cell_type": "code",
      "execution_count": null,
      "metadata": {
        "colab": {
          "base_uri": "https://localhost:8080/"
        },
        "id": "ayPP3jtDW4Ry",
        "outputId": "ea3f0df1-f91d-4c39-d4ab-2772b3ee980b"
      },
      "outputs": [
        {
          "data": {
            "text/plain": [
              "(4151, 128, 128, 3)"
            ]
          },
          "execution_count": 76,
          "metadata": {},
          "output_type": "execute_result"
        }
      ],
      "source": [
        "data.shape"
      ]
    },
    {
      "cell_type": "code",
      "execution_count": null,
      "metadata": {
        "colab": {
          "base_uri": "https://localhost:8080/",
          "height": 35
        },
        "id": "h2ZWj--a5siT",
        "outputId": "40e79abf-3ee2-4434-faeb-278b21179c2f"
      },
      "outputs": [
        {
          "data": {
            "application/vnd.google.colaboratory.intrinsic+json": {
              "type": "string"
            },
            "text/plain": [
              "'/content/drive/MyDrive/Datasets/nparray_resized_ganime_fullbody_cleaned_ds/blur_ultraclean_128'"
            ]
          },
          "execution_count": 78,
          "metadata": {},
          "output_type": "execute_result"
        }
      ],
      "source": [
        "config.destination"
      ]
    },
    {
      "cell_type": "code",
      "execution_count": null,
      "metadata": {
        "id": "1k9VRf4yebih"
      },
      "outputs": [],
      "source": [
        "np.save(config.destination,data)"
      ]
    },
    {
      "cell_type": "code",
      "execution_count": null,
      "metadata": {
        "id": "95YntuQ-e_gj"
      },
      "outputs": [],
      "source": []
    },
    {
      "cell_type": "code",
      "execution_count": null,
      "metadata": {
        "id": "ZQ1RPwa5WmRZ"
      },
      "outputs": [],
      "source": []
    },
    {
      "cell_type": "markdown",
      "metadata": {
        "id": "9J4IBbgbWm1x"
      },
      "source": [
        "## Img to Nparray pair"
      ]
    },
    {
      "cell_type": "code",
      "execution_count": null,
      "metadata": {
        "id": "qbY9QjORWu3g"
      },
      "outputs": [],
      "source": [
        "class nparray_config():\n",
        "  def __init__(self):\n",
        "    self.src1 = '/content/drive/MyDrive/Datasets/resized_ganime_fullbody_ultraclean/'\n",
        "    self.src2 = '/content/drive/MyDrive/Datasets/blur_ganime_fullbody_ultraclean/'\n",
        "    self.size = 128\n",
        "    self.destination1 = f'/content/drive/MyDrive/Datasets/nparray_resized_ganime_fullbody_cleaned_ds/pair_resized_ultraclean_{self.size}'\n",
        "    self.destination2 = f'/content/drive/MyDrive/Datasets/nparray_resized_ganime_fullbody_cleaned_ds/pair_blur_ultraclean_{self.size}'\n",
        "\n",
        "config = nparray_config()"
      ]
    },
    {
      "cell_type": "code",
      "execution_count": null,
      "metadata": {
        "colab": {
          "base_uri": "https://localhost:8080/"
        },
        "id": "v25JwkAPXFE_",
        "outputId": "6c7ca3fb-338e-4e81-a457-55fa8386e932"
      },
      "outputs": [
        {
          "name": "stdout",
          "output_type": "stream",
          "text": [
            "Source: /content/drive/MyDrive/Datasets/resized_ganime_fullbody_ultraclean/\n",
            "Source: /content/drive/MyDrive/Datasets/blur_ganime_fullbody_ultraclean/\n",
            "Destination: /content/drive/MyDrive/Datasets/nparray_resized_ganime_fullbody_cleaned_ds/pair_resized_ultraclean_128\n",
            "Destination: /content/drive/MyDrive/Datasets/nparray_resized_ganime_fullbody_cleaned_ds/pair_blur_ultraclean_128\n",
            "Size: 128\n"
          ]
        }
      ],
      "source": [
        "print(f'Source: {config.src1}')\n",
        "print(f'Source: {config.src2}')\n",
        "print(f'Destination: {config.destination1}')\n",
        "print(f'Destination: {config.destination2}')\n",
        "print(f'Size: {config.size}')"
      ]
    },
    {
      "cell_type": "code",
      "execution_count": null,
      "metadata": {
        "id": "ba23zpplXSRq"
      },
      "outputs": [],
      "source": [
        "import os\n",
        "import cv2\n",
        "import torch\n",
        "import numpy as np\n",
        "import matplotlib.pyplot as plt\n",
        "from tqdm import tqdm"
      ]
    },
    {
      "cell_type": "code",
      "execution_count": null,
      "metadata": {
        "id": "PVtv2Y3gXWmY"
      },
      "outputs": [],
      "source": [
        "def pair_these(path1, path2, size):\n",
        "  data1 = []\n",
        "  data2 = []\n",
        "  for img_name in tqdm(os.listdir(path1)):\n",
        "    img_path1 = path1 + img_name\n",
        "    img = cv2.imread(img_path1)\n",
        "    img = cv2.cvtColor(img, cv2.COLOR_BGR2RGB)\n",
        "    img = cv2.resize(img, (size, size))\n",
        "    data1.append(img)\n",
        "\n",
        "    img_path2 = path2 + img_name\n",
        "    img = cv2.imread(img_path2)\n",
        "    img = cv2.cvtColor(img, cv2.COLOR_BGR2RGB)\n",
        "    img = cv2.resize(img, (size, size))\n",
        "    data2.append(img)\n",
        "  \n",
        "  result1 = np.array(data1)\n",
        "  result2 = np.array(data2)\n",
        "  del data1\n",
        "  del data2\n",
        "\n",
        "  return result1, result2"
      ]
    },
    {
      "cell_type": "code",
      "execution_count": null,
      "metadata": {
        "id": "gA8IU8bUYUr1"
      },
      "outputs": [],
      "source": [
        "path1 = config.src1\n",
        "path2 = config.src2"
      ]
    },
    {
      "cell_type": "code",
      "execution_count": null,
      "metadata": {
        "colab": {
          "base_uri": "https://localhost:8080/"
        },
        "id": "MOUvPDW8YPDH",
        "outputId": "e622d33f-72e5-4925-efda-33579fe085c9"
      },
      "outputs": [
        {
          "name": "stderr",
          "output_type": "stream",
          "text": [
            "100%|██████████| 4152/4152 [06:41<00:00, 10.35it/s]\n"
          ]
        }
      ],
      "source": [
        "data1, data2 = pair_these(path1, path2, config.size)"
      ]
    },
    {
      "cell_type": "code",
      "execution_count": null,
      "metadata": {
        "id": "YjqSyfR6b6c0"
      },
      "outputs": [],
      "source": [
        "np.save(config.destination1,data1)\n",
        "np.save(config.destination2,data2)"
      ]
    },
    {
      "cell_type": "markdown",
      "metadata": {
        "id": "DE7uMcGFXmCU"
      },
      "source": [
        "## Load_Square_Pad -> Save"
      ]
    },
    {
      "cell_type": "code",
      "execution_count": null,
      "metadata": {
        "id": "MGfxayHGaq_B"
      },
      "outputs": [],
      "source": [
        "import os\n",
        "import cv2\n",
        "import torch\n",
        "import numpy as np\n",
        "from tqdm import tqdm"
      ]
    },
    {
      "cell_type": "code",
      "execution_count": null,
      "metadata": {
        "id": "MfJbjKOmXrQF"
      },
      "outputs": [],
      "source": [
        "def img_to_squarepad(src, dst, size, padding_color_bgr = (0,0,0)):\n",
        "\n",
        "  def square_pad(image, rgb_scale = (0,0,0)):\n",
        "    w,h,c = image.shape\n",
        "    b,g,r = rgb_scale\n",
        "    if w>=h:\n",
        "        # out = np.one([w,w,c])\n",
        "        out = np.full([w,w,c], [b,g,r]).astype('uint8')\n",
        "        out[:,int((w-h)/2):int((w-h)/2)+h,:] = image\n",
        "    else:\n",
        "        # out = np.one([h,h,c])\n",
        "        out = np.full([h,h,c], [b,g,r]).astype('uint8')\n",
        "        out[int((h-w)/2):int((h-w)/2)+w,:,:] = image\n",
        "    return out\n",
        "  \n",
        "  def normalize_single(image, a_size):\n",
        "    image = square_pad(image, rgb_scale=padding_color_bgr)\n",
        "    an_image = cv2.resize(image, a_size)\n",
        "\n",
        "    del an_image\n",
        "\n",
        "    return image\n",
        "\n",
        "  for img_name in tqdm(os.listdir(src)):\n",
        "    img_path = src + img_name\n",
        "    img = cv2.imread(img_path)\n",
        "    img = normalize_single(img, (size, size))\n",
        "\n",
        "    cv2.imwrite(f'{dst}/{img_name}', img)\n",
        "\n",
        "  return"
      ]
    },
    {
      "cell_type": "code",
      "execution_count": null,
      "metadata": {
        "colab": {
          "base_uri": "https://localhost:8080/"
        },
        "id": "RH78UCt1ZngT",
        "outputId": "fdbc6fe7-34dc-46d6-a148-ed3ccf7367ad"
      },
      "outputs": [
        {
          "name": "stderr",
          "output_type": "stream",
          "text": [
            "100%|██████████| 10039/10039 [57:55<00:00,  2.89it/s]\n"
          ]
        }
      ],
      "source": [
        "img_to_squarepad(src='/content/drive/MyDrive/Datasets/ganime_fullbody_cleaned_ds/', dst='/content/drive/MyDrive/Datasets/resized_ganime_fullbody_cleaned_ds_white_256',size=256, padding_color_bgr=(255, 255, 255))"
      ]
    },
    {
      "cell_type": "markdown",
      "metadata": {
        "id": "0GVXNDg-Fwg9"
      },
      "source": [
        "## Resize & Save"
      ]
    },
    {
      "cell_type": "code",
      "execution_count": null,
      "metadata": {
        "colab": {
          "base_uri": "https://localhost:8080/"
        },
        "id": "UHp0PLE6mJtt",
        "outputId": "d7e02996-fcb1-4d85-84eb-1317715f2aaf"
      },
      "outputs": [
        {
          "name": "stdout",
          "output_type": "stream",
          "text": [
            "Mounted at /content/drive\n"
          ]
        }
      ],
      "source": [
        "from google.colab import drive\n",
        "drive.mount('/content/drive')"
      ]
    },
    {
      "cell_type": "code",
      "execution_count": null,
      "metadata": {
        "id": "uTSgOxclFzTc"
      },
      "outputs": [],
      "source": [
        "import os\n",
        "import cv2\n",
        "import torch\n",
        "import numpy as np\n",
        "from tqdm import tqdm"
      ]
    },
    {
      "cell_type": "code",
      "execution_count": null,
      "metadata": {
        "id": "lI-EqBGQF1e9"
      },
      "outputs": [],
      "source": [
        "def resize_save(src, size, dst):\n",
        "  for img_name in tqdm(os.listdir(src)):\n",
        "    img_path = src + img_name\n",
        "    img = cv2.imread(img_path)\n",
        "    img = cv2.resize(img, (size, size))\n",
        "\n",
        "    cv2.imwrite(f'{dst}/{img_name}', img)"
      ]
    },
    {
      "cell_type": "code",
      "execution_count": null,
      "metadata": {
        "colab": {
          "base_uri": "https://localhost:8080/"
        },
        "id": "r4-vxQmNmd9I",
        "outputId": "906cc7d9-4ac4-43f4-b376-3554a2c02506"
      },
      "outputs": [
        {
          "name": "stderr",
          "output_type": "stream",
          "text": [
            "100%|██████████| 10039/10039 [05:07<00:00, 32.61it/s]\n"
          ]
        }
      ],
      "source": [
        "resize_save('/content/drive/MyDrive/Datasets/128x128_resized_ganime_fullbody_cleaned_ds/', 64, '/content/drive/MyDrive/Datasets/64x64_resized_ganime_fullbody_cleaned_ds/')"
      ]
    },
    {
      "cell_type": "code",
      "execution_count": null,
      "metadata": {
        "colab": {
          "base_uri": "https://localhost:8080/"
        },
        "id": "imS3Hze2nRgd",
        "outputId": "e20680b3-6c90-4cbe-95b7-853dac1fa881"
      },
      "outputs": [
        {
          "name": "stderr",
          "output_type": "stream",
          "text": [
            "100%|██████████| 10039/10039 [27:09<00:00,  6.16it/s]\n"
          ]
        }
      ],
      "source": [
        "resize_save('/content/drive/MyDrive/Datasets/resized_ganime_fullbody_cleaned_ds_white_256/', 64, '/content/drive/MyDrive/Datasets/resized_ganime_fullbody_cleaned_ds_white_64/')"
      ]
    },
    {
      "cell_type": "code",
      "execution_count": null,
      "metadata": {
        "colab": {
          "base_uri": "https://localhost:8080/"
        },
        "id": "_TZnwV92oIEY",
        "outputId": "e683f45a-833f-4018-a981-981dd5553661"
      },
      "outputs": [
        {
          "name": "stderr",
          "output_type": "stream",
          "text": [
            "100%|██████████| 10039/10039 [15:39<00:00, 10.68it/s]\n"
          ]
        }
      ],
      "source": [
        "resize_save('/content/drive/MyDrive/Datasets/resized_ganime_fullbody_cleaned_ds_white_256/', 128, '/content/drive/MyDrive/Datasets/resized_ganime_fullbody_cleaned_ds_white_128/')"
      ]
    },
    {
      "cell_type": "markdown",
      "metadata": {
        "id": "cbf1iWOogi-a"
      },
      "source": [
        "## Time_Lapse From Img In Folder"
      ]
    },
    {
      "cell_type": "code",
      "execution_count": null,
      "metadata": {
        "id": "FncQbZxjgrUU"
      },
      "outputs": [],
      "source": [
        "import os\n",
        "import cv2\n",
        "import numpy as np\n",
        "from tqdm import tqdm"
      ]
    },
    {
      "cell_type": "code",
      "execution_count": null,
      "metadata": {
        "id": "DVlNCTNuhA0E"
      },
      "outputs": [],
      "source": [
        "def make_time_lapse(file_name,from_path,save_path,fps):\n",
        "\n",
        "  images = [img for img in os.listdir(from_path) if img.endswith(\".jpg\")]\n",
        "\n",
        "  img_array = []\n",
        "  for filename in tqdm(images):\n",
        "      img = cv2.imread(os.path.join(from_path,filename))\n",
        "      img_array.append(img)\n",
        "\n",
        "\n",
        "  height, width, layers = img.shape\n",
        "  out = cv2.VideoWriter(os.path.join(save_path,file_name),cv2.VideoWriter_fourcc(*'mp4v'), fps, (width,height))\n",
        "  \n",
        "  for i in tqdm(range(len(img_array))):\n",
        "      out.write(img_array[i])\n",
        "  out.release()\n",
        "\n",
        "  print(f'\\n Write From {os.path.join(from_path,file_name)}')\n",
        "  print(f'\\n Saved to {os.path.join(save_path,file_name)}')"
      ]
    },
    {
      "cell_type": "code",
      "execution_count": null,
      "metadata": {
        "colab": {
          "base_uri": "https://localhost:8080/"
        },
        "id": "crw_Ely7lCop",
        "outputId": "c34fcd14-060e-4b4a-8e6a-937e63fb0999"
      },
      "outputs": [
        {
          "name": "stderr",
          "output_type": "stream",
          "text": [
            "100%|██████████| 84/84 [00:00<00:00, 208.24it/s]\n",
            "100%|██████████| 84/84 [00:00<00:00, 2135.19it/s]"
          ]
        },
        {
          "name": "stdout",
          "output_type": "stream",
          "text": [
            "\n",
            " Write From /content/drive/MyDrive/Datasets/time_lapse/128x128_progans/test.mp4\n",
            "\n",
            " Saved to /content/drive/MyDrive/Datasets/time_lapse/test.mp4\n"
          ]
        },
        {
          "name": "stderr",
          "output_type": "stream",
          "text": [
            "\n"
          ]
        }
      ],
      "source": [
        "make_time_lapse(\n",
        "    file_name='test.mp4',\n",
        "    from_path='/content/drive/MyDrive/Datasets/time_lapse/128x128_progans',\n",
        "    save_path='/content/drive/MyDrive/Datasets/time_lapse',\n",
        "    fps=2,\n",
        ")"
      ]
    },
    {
      "cell_type": "code",
      "execution_count": null,
      "metadata": {
        "id": "l7O_4wHEl-Bc"
      },
      "outputs": [],
      "source": []
    },
    {
      "cell_type": "markdown",
      "metadata": {
        "id": "-5NqWkphgo0l"
      },
      "source": [
        "## Logger.txt Splitter"
      ]
    },
    {
      "cell_type": "code",
      "execution_count": null,
      "metadata": {
        "id": "5gFzFtDWgs3G"
      },
      "outputs": [],
      "source": [
        "def plot_logger(txtpath):\n",
        "  f = open(f\"{txtpath}\", \"r\")\n",
        "  data = f.read()\n",
        "  f.close()\n",
        "  data = data.split(\"@\")\n",
        "  print(len(data))"
      ]
    },
    {
      "cell_type": "code",
      "execution_count": null,
      "metadata": {
        "colab": {
          "base_uri": "https://localhost:8080/"
        },
        "id": "norfsP75iW7S",
        "outputId": "c2be19ba-6159-41db-de22-5e9c3efd61b6"
      },
      "outputs": [
        {
          "name": "stdout",
          "output_type": "stream",
          "text": [
            "8006\n"
          ]
        }
      ],
      "source": [
        "plot_logger('/content/drive/MyDrive/Datasets/save/32x32Pixel_Art_Gans/logger.txt')"
      ]
    },
    {
      "cell_type": "code",
      "execution_count": null,
      "metadata": {
        "id": "IDV2Oo0Qiday"
      },
      "outputs": [],
      "source": []
    },
    {
      "cell_type": "markdown",
      "metadata": {
        "id": "5g3TAdb6wGlq"
      },
      "source": [
        "# Filtering Data With ML"
      ]
    },
    {
      "cell_type": "code",
      "execution_count": null,
      "metadata": {
        "id": "ja3pUAsnxrTJ"
      },
      "outputs": [],
      "source": [
        "import os\n",
        "import matplotlib.pyplot as plt\n",
        "from tqdm import tqdm\n",
        "import cv2\n",
        "import numpy as np"
      ]
    },
    {
      "cell_type": "code",
      "execution_count": null,
      "metadata": {
        "id": "acjxUlzHxZ1S"
      },
      "outputs": [],
      "source": [
        "class configure():\n",
        "  def __init__(self):\n",
        "    self.model_path = '/content/drive/MyDrive/classification_workspace/workspace_goodbad1/resnet50.model'\n",
        "    self.src_path = '/content/drive/MyDrive/classification_workspace/filter_goodbad1/Single'\n",
        "    self.save_path = self.src_path = '/content/drive/MyDrive/classification_workspace/filter_goodbad1'\n",
        "    self.classes = ['good', 'bad']\n",
        "    self.imageSize = (224,224)"
      ]
    },
    {
      "cell_type": "code",
      "execution_count": null,
      "metadata": {
        "id": "On7RUVlW6VWR"
      },
      "outputs": [],
      "source": [
        "config = configure()\n",
        "config.src_path = '/content/drive/MyDrive/classification_workspace/filter_goodbad1/Single'"
      ]
    },
    {
      "cell_type": "code",
      "execution_count": null,
      "metadata": {
        "id": "Qb0w3xhhz4eS"
      },
      "outputs": [],
      "source": [
        "def square_pad(image):\n",
        "    w,h,c = image.shape\n",
        "    if w>=h:\n",
        "        out = np.zeros([w,w,c])\n",
        "        out[:,int((w-h)/2):int((w-h)/2)+h,:] = image\n",
        "    else:\n",
        "        out = np.zeros([h,h,c])\n",
        "        out[int((h-w)/2):int((h-w)/2)+w,:,:] = image\n",
        "    return out"
      ]
    },
    {
      "cell_type": "markdown",
      "metadata": {
        "id": "zVZ4JC9Qwmlj"
      },
      "source": [
        "## Tensorflow"
      ]
    },
    {
      "cell_type": "code",
      "execution_count": null,
      "metadata": {
        "id": "fHhTLqpnxM5s"
      },
      "outputs": [],
      "source": [
        "import tensorflow as tf"
      ]
    },
    {
      "cell_type": "code",
      "execution_count": null,
      "metadata": {
        "id": "Xsc_Wmf4wqbv"
      },
      "outputs": [],
      "source": [
        "model = tf.keras.models.load_model(\n",
        "    filepath= config.model_path\n",
        ")"
      ]
    },
    {
      "cell_type": "code",
      "execution_count": null,
      "metadata": {
        "id": "WBMNCyu3xTrH"
      },
      "outputs": [],
      "source": [
        "def predict(x):\n",
        "  result = model.predict(x)\n",
        "  result = 1 if result > 0.5 else 0\n",
        "  return result"
      ]
    },
    {
      "cell_type": "code",
      "execution_count": null,
      "metadata": {
        "id": "Epreem9Ezze5"
      },
      "outputs": [],
      "source": [
        "def normalize_single(image):\n",
        "  image = cv2.cvtColor(image, cv2.COLOR_BGR2RGB)\n",
        "  image = square_pad(image)\n",
        "  an_image = cv2.resize(image, config.imageSize)\n",
        "  image = np.expand_dims(an_image, axis=0)\n",
        "\n",
        "  return image, an_image #image for show"
      ]
    },
    {
      "cell_type": "markdown",
      "metadata": {
        "id": "Ms2WzOly0pEO"
      },
      "source": [
        "## Predict Single Image"
      ]
    },
    {
      "cell_type": "code",
      "execution_count": null,
      "metadata": {
        "colab": {
          "base_uri": "https://localhost:8080/",
          "height": 35
        },
        "id": "2h0vnrw18aij",
        "outputId": "2dd5aa16-cc6e-4557-8d06-3b5ea3571ffc"
      },
      "outputs": [
        {
          "data": {
            "application/vnd.google.colaboratory.intrinsic+json": {
              "type": "string"
            },
            "text/plain": [
              "'/content/drive/MyDrive/classification_workspace/filter_goodbad1/Single'"
            ]
          },
          "execution_count": 7,
          "metadata": {},
          "output_type": "execute_result"
        }
      ],
      "source": [
        "config.src_path"
      ]
    },
    {
      "cell_type": "code",
      "execution_count": null,
      "metadata": {
        "colab": {
          "base_uri": "https://localhost:8080/"
        },
        "id": "JqZXyxx079Q3",
        "outputId": "a6e49775-5673-48db-e44e-3bf2512b223b"
      },
      "outputs": [
        {
          "data": {
            "text/plain": [
              "['README.md',\n",
              " 'anscombe.json',\n",
              " 'california_housing_test.csv',\n",
              " 'california_housing_train.csv',\n",
              " 'mnist_train_small.csv',\n",
              " 'mnist_test.csv']"
            ]
          },
          "execution_count": 6,
          "metadata": {},
          "output_type": "execute_result"
        }
      ],
      "source": [
        "os.listdir('/content/sample_data')"
      ]
    },
    {
      "cell_type": "code",
      "execution_count": null,
      "metadata": {
        "colab": {
          "base_uri": "https://localhost:8080/",
          "height": 304
        },
        "id": "fmPpllgyytr5",
        "outputId": "e9015a92-8d55-4a57-a033-ea1ddbbac3c5"
      },
      "outputs": [
        {
          "name": "stderr",
          "output_type": "stream",
          "text": [
            "\r  0%|          | 0/9409 [00:00<?, ?it/s]"
          ]
        },
        {
          "name": "stdout",
          "output_type": "stream",
          "text": [
            "good\n"
          ]
        },
        {
          "name": "stderr",
          "output_type": "stream",
          "text": [
            "\r  0%|          | 0/9409 [00:10<?, ?it/s]\n"
          ]
        },
        {
          "data": {
            "image/png": "[encoded data removed]",
            "text/plain": [
              "<Figure size 432x288 with 1 Axes>"
            ]
          },
          "metadata": {
            "needs_background": "light"
          },
          "output_type": "display_data"
        }
      ],
      "source": [
        "for file_name in tqdm(os.listdir(config.src_path)):\n",
        "  path = f'{config.src_path}/{file_name}'\n",
        "  image = cv2.imread(path)\n",
        "  image, show = normalize_single(image)\n",
        "  pred = predict(image)\n",
        "  print(config.classes[pred])\n",
        "  plt.imshow(show.astype(np.uint8))\n",
        "  break"
      ]
    },
    {
      "cell_type": "markdown",
      "metadata": {
        "id": "K7AVZ5uL00UA"
      },
      "source": [
        "## Filtering and Move"
      ]
    },
    {
      "cell_type": "code",
      "execution_count": null,
      "metadata": {
        "id": "nKL89sp22iCP"
      },
      "outputs": [],
      "source": [
        "import shutil"
      ]
    },
    {
      "cell_type": "code",
      "execution_count": null,
      "metadata": {
        "colab": {
          "base_uri": "https://localhost:8080/"
        },
        "id": "A4NrAR0R2CXU",
        "outputId": "6bb8b5c0-01ff-4e17-8f68-1b26b68fc2bc"
      },
      "outputs": [
        {
          "name": "stdout",
          "output_type": "stream",
          "text": [
            "{'good': 0, 'bad': 1}\n"
          ]
        }
      ],
      "source": [
        "class_name_label = {class_name: i for i , class_name in enumerate(config.classes)}\n",
        "print(class_name_label)"
      ]
    },
    {
      "cell_type": "code",
      "execution_count": null,
      "metadata": {
        "id": "LOHW-k4u4_cu"
      },
      "outputs": [],
      "source": [
        "for file_name in tqdm(os.listdir(config.src_path)):\n",
        "  print(file_name)"
      ]
    },
    {
      "cell_type": "code",
      "execution_count": null,
      "metadata": {
        "colab": {
          "base_uri": "https://localhost:8080/"
        },
        "id": "LpCUau-G0zjJ",
        "outputId": "68c2829d-3b55-4f17-e489-05f514ac53e0"
      },
      "outputs": [
        {
          "name": "stderr",
          "output_type": "stream",
          "text": [
            "100%|██████████| 9409/9409 [36:12<00:00,  4.33it/s]\n"
          ]
        }
      ],
      "source": [
        "for file_name in tqdm(os.listdir(config.src_path)):\n",
        "  path = f'{config.src_path}/{file_name}'\n",
        "  image = cv2.imread(path)\n",
        "\n",
        "  image, show = normalize_single(image)# normalize cause model take normalized input only\n",
        "  pred = predict(image) # pred and round up probability\n",
        "  \n",
        "  if pred == 0: #move files\n",
        "    shutil.move(f\"{config.src_path}/{file_name}\", f\"{config.save_path}/{config.classes[pred]}/{file_name}\")\n",
        "  elif pred == 1: #move files\n",
        "    shutil.move(f\"{config.src_path}/{file_name}\", f\"{config.save_path}/{config.classes[pred]}/{file_name}\")\n",
        "  "
      ]
    },
    {
      "cell_type": "code",
      "execution_count": null,
      "metadata": {
        "id": "PLCvthORluvM"
      },
      "outputs": [],
      "source": []
    },
    {
      "cell_type": "markdown",
      "metadata": {
        "id": "pDardBvF8eXM"
      },
      "source": [
        "# Guassian Blur All"
      ]
    },
    {
      "cell_type": "code",
      "execution_count": null,
      "metadata": {
        "id": "dOeeFSZN8otM"
      },
      "outputs": [],
      "source": [
        "import os\n",
        "import cv2\n",
        "from tqdm import tqdm\n",
        "import matplotlib.pyplot as plt"
      ]
    },
    {
      "cell_type": "code",
      "execution_count": null,
      "metadata": {
        "id": "FBOGHsiA8l8T"
      },
      "outputs": [],
      "source": [
        "class configure():\n",
        "  def __init__(self):\n",
        "    self.src_path = '/content/drive/MyDrive/Datasets/resized_ganime_fullbody_ultraclean'\n",
        "    self.save_path = '/content/drive/MyDrive/Datasets/blur_ganime_fullbody_ultraclean'\n",
        "\n",
        "config = configure()"
      ]
    },
    {
      "cell_type": "code",
      "execution_count": null,
      "metadata": {
        "colab": {
          "base_uri": "https://localhost:8080/"
        },
        "id": "KgZHqodw8lgu",
        "outputId": "daf9dd66-a0e5-4668-918b-9589d6392da2"
      },
      "outputs": [
        {
          "name": "stderr",
          "output_type": "stream",
          "text": [
            "  0%|          | 0/4152 [00:00<?, ?it/s]\n"
          ]
        }
      ],
      "source": [
        "for file_name in tqdm(os.listdir(config.src_path)):\n",
        "  path = f'{config.src_path}/{file_name}'\n",
        "  save_path = f'{config.save_path}/{file_name}'\n",
        "  image = cv2.imread(path)\n",
        "  image = cv2.resize(image, (128,128))\n",
        "\n",
        "  img = cv2.GaussianBlur(image, (3,3), 0) # blur img\n",
        "  cv2.imwrite(save_path, img)\n",
        "\n",
        "  # cv2.imwrite(f'{config.save_path}/{file_name}', img)\n",
        "  "
      ]
    },
    {
      "cell_type": "markdown",
      "metadata": {
        "id": "CXcumxykXxfR"
      },
      "source": [
        "# Test"
      ]
    },
    {
      "cell_type": "code",
      "execution_count": null,
      "metadata": {
        "id": "VNnCI6clX4hL"
      },
      "outputs": [],
      "source": [
        "import os"
      ]
    },
    {
      "cell_type": "code",
      "execution_count": null,
      "metadata": {
        "id": "gh1aCsjZXyH7"
      },
      "outputs": [],
      "source": [
        "path ='/content/drive/MyDrive/Datasets/nparray_resized_ganime_fullbody_cleaned_ds/'"
      ]
    },
    {
      "cell_type": "code",
      "execution_count": null,
      "metadata": {
        "colab": {
          "base_uri": "https://localhost:8080/"
        },
        "id": "5a_H589NX1vs",
        "outputId": "90da876c-ba4b-4d54-b02f-aee501b767a1"
      },
      "outputs": [
        {
          "data": {
            "text/plain": [
              "7"
            ]
          },
          "execution_count": 7,
          "metadata": {},
          "output_type": "execute_result"
        }
      ],
      "source": [
        "len(os.listdir(path))"
      ]
    },
    {
      "cell_type": "code",
      "execution_count": null,
      "metadata": {
        "id": "Ppc-_JKpX5JU"
      },
      "outputs": [],
      "source": []
    }
  ],
  "metadata": {
    "colab": {
      "collapsed_sections": [
        "2XPHqIer6ncc",
        "DE7uMcGFXmCU",
        "0GVXNDg-Fwg9",
        "cbf1iWOogi-a",
        "-5NqWkphgo0l",
        "5g3TAdb6wGlq"
      ],
      "name": "Utilities",
      "provenance": []
    },
    "kernelspec": {
      "display_name": "Python 3",
      "name": "python3"
    },
    "language_info": {
      "name": "python"
    }
  },
  "nbformat": 4,
  "nbformat_minor": 0
}
